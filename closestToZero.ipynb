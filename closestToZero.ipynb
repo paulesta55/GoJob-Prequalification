{
 "cells": [
  {
   "cell_type": "code",
   "execution_count": 68,
   "metadata": {},
   "outputs": [],
   "source": [
    "from typing import List\n",
    "import sys\n",
    "\n",
    "def closestToZero(nums: List[int]):\n",
    "    # Check if list is not None or empty \n",
    "    if nums and len(nums)>0: \n",
    "        result = sys.maxsize\n",
    "        absResult = abs(result) \n",
    "        for n in nums:\n",
    "            # Distance to 0 is absolute value\n",
    "            tmpAbs = abs(n)\n",
    "            if  tmpAbs < absResult:\n",
    "                result = n\n",
    "                absResult = tmpAbs\n",
    "            # Keep the max value to select the positive value in any case\n",
    "            elif tmpAbs == absResult:\n",
    "                result = max(result, n)\n",
    "        return result\n",
    "    return 0"
   ]
  },
  {
   "cell_type": "code",
   "execution_count": 72,
   "metadata": {},
   "outputs": [
    {
     "ename": "AssertionError",
     "evalue": "",
     "output_type": "error",
     "traceback": [
      "\u001b[1;31m---------------------------------------------------------------------------\u001b[0m",
      "\u001b[1;31mAssertionError\u001b[0m                            Traceback (most recent call last)",
      "\u001b[1;32m<ipython-input-72-4a1347be9277>\u001b[0m in \u001b[0;36m<module>\u001b[1;34m\u001b[0m\n\u001b[0;32m     15\u001b[0m \u001b[1;32massert\u001b[0m \u001b[0mclosestToZero\u001b[0m\u001b[1;33m(\u001b[0m\u001b[1;32mNone\u001b[0m\u001b[1;33m)\u001b[0m \u001b[1;33m==\u001b[0m \u001b[1;36m0\u001b[0m \u001b[1;31m# random.shuffle does not work with None as list\u001b[0m\u001b[1;33m\u001b[0m\u001b[1;33m\u001b[0m\u001b[0m\n\u001b[0;32m     16\u001b[0m \u001b[1;33m\u001b[0m\u001b[0m\n\u001b[1;32m---> 17\u001b[1;33m \u001b[1;32massert\u001b[0m \u001b[1;32mTrue\u001b[0m \u001b[1;33m==\u001b[0m \u001b[1;32mFalse\u001b[0m \u001b[1;31m# assert check\u001b[0m\u001b[1;33m\u001b[0m\u001b[1;33m\u001b[0m\u001b[0m\n\u001b[0m",
      "\u001b[1;31mAssertionError\u001b[0m: "
     ]
    }
   ],
   "source": [
    "import random\n",
    "\n",
    "# Unit Test\n",
    "def testClosestToZero(entry: List[int], out: int):\n",
    "    for i in range(3):\n",
    "        random.shuffle(entry)\n",
    "        res = closestToZero(entry)\n",
    "        assert res == out\n",
    "\n",
    "testClosestToZero([8, 5, 10],5)\n",
    "testClosestToZero([5, 4, -9, 6, -10, -1, 8], -1)\n",
    "testClosestToZero([8, 2, 3, -2], 2)\n",
    "testClosestToZero([2, 0], 0)\n",
    "testClosestToZero([], 0)\n",
    "assert closestToZero(None) == 0 # random.shuffle does not work with None as list\n",
    "\n",
    "assert True == False # assert check "
   ]
  }
 ],
 "metadata": {
  "kernelspec": {
   "display_name": "Python 3",
   "language": "python",
   "name": "python3"
  },
  "language_info": {
   "codemirror_mode": {
    "name": "ipython",
    "version": 3
   },
   "file_extension": ".py",
   "mimetype": "text/x-python",
   "name": "python",
   "nbconvert_exporter": "python",
   "pygments_lexer": "ipython3",
   "version": "3.7.6"
  }
 },
 "nbformat": 4,
 "nbformat_minor": 4
}
